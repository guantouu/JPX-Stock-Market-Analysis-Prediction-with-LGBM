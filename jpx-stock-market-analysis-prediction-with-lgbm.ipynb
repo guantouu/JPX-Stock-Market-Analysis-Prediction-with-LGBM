{
 "cells": [
  {
   "cell_type": "code",
   "execution_count": 1,
   "id": "d1451462",
   "metadata": {
    "_cell_guid": "b1076dfc-b9ad-4769-8c92-a6c4dae69d19",
    "_kg_hide-input": false,
    "_uuid": "8f2839f25d086af736a60e9eeb907d3b93b6e0e5",
    "execution": {
     "iopub.execute_input": "2022-06-07T03:28:06.024122Z",
     "iopub.status.busy": "2022-06-07T03:28:06.023683Z",
     "iopub.status.idle": "2022-06-07T03:28:36.397457Z",
     "shell.execute_reply": "2022-06-07T03:28:36.396472Z"
    },
    "papermill": {
     "duration": 30.392686,
     "end_time": "2022-06-07T03:28:36.399951",
     "exception": false,
     "start_time": "2022-06-07T03:28:06.007265",
     "status": "completed"
    },
    "tags": []
   },
   "outputs": [
    {
     "data": {
      "text/html": [
       "<style type='text/css'>\n",
       ".datatable table.frame { margin-bottom: 0; }\n",
       ".datatable table.frame thead { border-bottom: none; }\n",
       ".datatable table.frame tr.coltypes td {  color: #FFFFFF;  line-height: 6px;  padding: 0 0.5em;}\n",
       ".datatable .bool    { background: #DDDD99; }\n",
       ".datatable .object  { background: #565656; }\n",
       ".datatable .int     { background: #5D9E5D; }\n",
       ".datatable .float   { background: #4040CC; }\n",
       ".datatable .str     { background: #CC4040; }\n",
       ".datatable .time    { background: #40CC40; }\n",
       ".datatable .row_index {  background: var(--jp-border-color3);  border-right: 1px solid var(--jp-border-color0);  color: var(--jp-ui-font-color3);  font-size: 9px;}\n",
       ".datatable .frame tbody td { text-align: left; }\n",
       ".datatable .frame tr.coltypes .row_index {  background: var(--jp-border-color0);}\n",
       ".datatable th:nth-child(2) { padding-left: 12px; }\n",
       ".datatable .hellipsis {  color: var(--jp-cell-editor-border-color);}\n",
       ".datatable .vellipsis {  background: var(--jp-layout-color0);  color: var(--jp-cell-editor-border-color);}\n",
       ".datatable .na {  color: var(--jp-cell-editor-border-color);  font-size: 80%;}\n",
       ".datatable .sp {  opacity: 0.25;}\n",
       ".datatable .footer { font-size: 9px; }\n",
       ".datatable .frame_dimensions {  background: var(--jp-border-color3);  border-top: 1px solid var(--jp-border-color0);  color: var(--jp-ui-font-color3);  display: inline-block;  opacity: 0.6;  padding: 1px 10px 1px 5px;}\n",
       "</style>\n"
      ],
      "text/plain": [
       "<IPython.core.display.HTML object>"
      ]
     },
     "metadata": {},
     "output_type": "display_data"
    },
    {
     "data": {
      "text/html": [
       "        <script type=\"text/javascript\">\n",
       "        window.PlotlyConfig = {MathJaxConfig: 'local'};\n",
       "        if (window.MathJax && window.MathJax.Hub && window.MathJax.Hub.Config) {window.MathJax.Hub.Config({SVG: {font: \"STIX-Web\"}});}\n",
       "        if (typeof require !== 'undefined') {\n",
       "        require.undef(\"plotly\");\n",
       "        requirejs.config({\n",
       "            paths: {\n",
       "                'plotly': ['https://cdn.plot.ly/plotly-2.12.1.min']\n",
       "            }\n",
       "        });\n",
       "        require(['plotly'], function(Plotly) {\n",
       "            window._Plotly = Plotly;\n",
       "        });\n",
       "        }\n",
       "        </script>\n",
       "        "
      ]
     },
     "metadata": {},
     "output_type": "display_data"
    }
   ],
   "source": [
    "import warnings, gc\n",
    "import numpy as np \n",
    "import pandas as pd\n",
    "import matplotlib.colors\n",
    "import seaborn as sns\n",
    "import plotly.express as px\n",
    "import plotly.graph_objects as go\n",
    "from plotly.subplots import make_subplots\n",
    "from plotly.offline import init_notebook_mode\n",
    "from datetime import datetime, timedelta\n",
    "from sklearn.model_selection import TimeSeriesSplit\n",
    "from sklearn.metrics import mean_squared_error,mean_absolute_error\n",
    "from lightgbm import LGBMRegressor\n",
    "from decimal import ROUND_HALF_UP, Decimal\n",
    "warnings.filterwarnings(\"ignore\")\n",
    "import plotly.figure_factory as ff\n",
    "\n",
    "init_notebook_mode(connected=True)\n",
    "temp = dict(layout=go.Layout(font=dict(family=\"Franklin Gothic\", size=12), width=800))\n",
    "colors=px.colors.qualitative.Plotly\n",
    "\n",
    "train=pd.read_csv(\"../input/jpx-tokyo-stock-exchange-prediction/train_files/stock_prices.csv\", parse_dates=['Date'])\n",
    "train=train.drop('ExpectedDividend',axis=1).fillna(0)\n",
    "stock_prices=train\n",
    "stock_prices.drop(['RowId','SupervisionFlag','AdjustmentFactor'],axis=1,inplace=True)"
   ]
  },
  {
   "cell_type": "code",
   "execution_count": 2,
   "id": "f5956534",
   "metadata": {
    "execution": {
     "iopub.execute_input": "2022-06-07T03:28:36.430864Z",
     "iopub.status.busy": "2022-06-07T03:28:36.430573Z",
     "iopub.status.idle": "2022-06-07T03:28:36.434802Z",
     "shell.execute_reply": "2022-06-07T03:28:36.434045Z"
    },
    "papermill": {
     "duration": 0.02154,
     "end_time": "2022-06-07T03:28:36.436675",
     "exception": false,
     "start_time": "2022-06-07T03:28:36.415135",
     "status": "completed"
    },
    "tags": []
   },
   "outputs": [],
   "source": [
    "def upper_shadow(df):\n",
    "    return df['High'] - np.maximum(df['Close'], df['Open'])"
   ]
  },
  {
   "cell_type": "code",
   "execution_count": 3,
   "id": "617a289e",
   "metadata": {
    "execution": {
     "iopub.execute_input": "2022-06-07T03:28:36.467113Z",
     "iopub.status.busy": "2022-06-07T03:28:36.466399Z",
     "iopub.status.idle": "2022-06-07T03:28:36.470645Z",
     "shell.execute_reply": "2022-06-07T03:28:36.469898Z"
    },
    "papermill": {
     "duration": 0.021478,
     "end_time": "2022-06-07T03:28:36.472432",
     "exception": false,
     "start_time": "2022-06-07T03:28:36.450954",
     "status": "completed"
    },
    "tags": []
   },
   "outputs": [],
   "source": [
    "def lower_shadow(df):\n",
    "    return np.minimum(df['Close'], df['Open']) - df['Low']"
   ]
  },
  {
   "cell_type": "code",
   "execution_count": 4,
   "id": "03c764be",
   "metadata": {
    "execution": {
     "iopub.execute_input": "2022-06-07T03:28:36.502143Z",
     "iopub.status.busy": "2022-06-07T03:28:36.501552Z",
     "iopub.status.idle": "2022-06-07T03:28:36.510647Z",
     "shell.execute_reply": "2022-06-07T03:28:36.509919Z"
    },
    "papermill": {
     "duration": 0.026045,
     "end_time": "2022-06-07T03:28:36.512490",
     "exception": false,
     "start_time": "2022-06-07T03:28:36.486445",
     "status": "completed"
    },
    "tags": []
   },
   "outputs": [],
   "source": [
    "def create_features(df):\n",
    "    df=df.copy()\n",
    "    col='Close'\n",
    "    periods=[5,10,20,30,50]\n",
    "    for period in periods:\n",
    "        df.loc[:,\"Return_{}Day\".format(period)] = df.groupby(\"SecuritiesCode\")[col].pct_change(period)\n",
    "        df.loc[:,\"MovingAvg_{}Day\".format(period)] = df.groupby(\"SecuritiesCode\")[col].rolling(window=period).mean().values\n",
    "        df.loc[:,\"ExpMovingAvg_{}Day\".format(period)] = df.groupby(\"SecuritiesCode\")[col].ewm(span=period,adjust=False).mean().values\n",
    "        df.loc[:,\"Volatility_{}Day\".format(period)] = np.log(df[col]).groupby(df[\"SecuritiesCode\"]).diff().rolling(period).std()\n",
    "    df.loc[:,\"Upper_Shadow\"] = upper_shadow(df[['Open', 'High', 'Low', 'Close', 'Volume']])\n",
    "    df.loc[:,\"Lower_Shadow\"] = lower_shadow(df[['Open', 'High', 'Low', 'Close', 'Volume']])\n",
    "    return df"
   ]
  },
  {
   "cell_type": "code",
   "execution_count": 5,
   "id": "4c1abc87",
   "metadata": {
    "execution": {
     "iopub.execute_input": "2022-06-07T03:28:36.541678Z",
     "iopub.status.busy": "2022-06-07T03:28:36.541117Z",
     "iopub.status.idle": "2022-06-07T03:28:36.549100Z",
     "shell.execute_reply": "2022-06-07T03:28:36.548372Z"
    },
    "papermill": {
     "duration": 0.024651,
     "end_time": "2022-06-07T03:28:36.551035",
     "exception": false,
     "start_time": "2022-06-07T03:28:36.526384",
     "status": "completed"
    },
    "tags": []
   },
   "outputs": [],
   "source": [
    "def calc_spread_return_sharpe(df: pd.DataFrame, portfolio_size: int = 200, toprank_weight_ratio: float = 2) -> float:\n",
    "    def _calc_spread_return_per_day(df, portfolio_size, toprank_weight_ratio):\n",
    "        assert df['Rank'].min() == 0\n",
    "        assert df['Rank'].max() == len(df['Rank']) - 1\n",
    "        weights = np.linspace(start=toprank_weight_ratio, stop=1, num=portfolio_size)\n",
    "        purchase = (df.sort_values(by='Rank')['Target'][:portfolio_size] * weights).sum() / weights.mean()\n",
    "        short = (df.sort_values(by='Rank', ascending=False)['Target'][:portfolio_size] * weights).sum() / weights.mean()\n",
    "        return purchase - short\n",
    "\n",
    "    buf = df.groupby('Date').apply(_calc_spread_return_per_day, portfolio_size, toprank_weight_ratio)\n",
    "    sharpe_ratio = buf.mean() / buf.std()\n",
    "    return sharpe_ratio"
   ]
  },
  {
   "cell_type": "code",
   "execution_count": 6,
   "id": "560ddf7b",
   "metadata": {
    "execution": {
     "iopub.execute_input": "2022-06-07T03:28:36.580037Z",
     "iopub.status.busy": "2022-06-07T03:28:36.579793Z",
     "iopub.status.idle": "2022-06-07T03:29:00.245780Z",
     "shell.execute_reply": "2022-06-07T03:29:00.244811Z"
    },
    "papermill": {
     "duration": 23.683236,
     "end_time": "2022-06-07T03:29:00.248248",
     "exception": false,
     "start_time": "2022-06-07T03:28:36.565012",
     "status": "completed"
    },
    "tags": []
   },
   "outputs": [],
   "source": [
    "stock_prices=create_features(df=stock_prices)"
   ]
  },
  {
   "cell_type": "code",
   "execution_count": 7,
   "id": "4b58cc7c",
   "metadata": {
    "execution": {
     "iopub.execute_input": "2022-06-07T03:29:00.282948Z",
     "iopub.status.busy": "2022-06-07T03:29:00.282085Z",
     "iopub.status.idle": "2022-06-07T03:29:01.867520Z",
     "shell.execute_reply": "2022-06-07T03:29:01.866660Z"
    },
    "papermill": {
     "duration": 1.605728,
     "end_time": "2022-06-07T03:29:01.870166",
     "exception": false,
     "start_time": "2022-06-07T03:29:00.264438",
     "status": "completed"
    },
    "tags": []
   },
   "outputs": [],
   "source": [
    "stock_prices=stock_prices.dropna().sort_values(['Date','SecuritiesCode'])\n",
    "y=stock_prices['Target'].to_numpy()\n",
    "X=stock_prices.drop(['Target'],axis=1)\n",
    "X_optuna = X.copy()\n",
    "X_optuna.drop(['Date','SecuritiesCode'], axis=1, inplace=True)"
   ]
  },
  {
   "cell_type": "code",
   "execution_count": 8,
   "id": "605b2a34",
   "metadata": {
    "execution": {
     "iopub.execute_input": "2022-06-07T03:29:01.901487Z",
     "iopub.status.busy": "2022-06-07T03:29:01.901220Z",
     "iopub.status.idle": "2022-06-07T03:29:01.907106Z",
     "shell.execute_reply": "2022-06-07T03:29:01.906374Z"
    },
    "papermill": {
     "duration": 0.024804,
     "end_time": "2022-06-07T03:29:01.909141",
     "exception": false,
     "start_time": "2022-06-07T03:29:01.884337",
     "status": "completed"
    },
    "tags": []
   },
   "outputs": [],
   "source": [
    "import optuna\n",
    "\n",
    "def objectives(trial):\n",
    "    params = {\n",
    "            'num_leaves': trial.suggest_int('num_leaves', 300, 4000),\n",
    "            'n_estimators': trial.suggest_int('n_estimators', 10, 1000),\n",
    "            'max_bin': trial.suggest_int('max_bin', 2, 100),\n",
    "            'learning_rate': trial.suggest_uniform('learning_rate',0, 1),\n",
    "    }\n",
    "    model = LGBMRegressor(**params, device_type = 'gpu')\n",
    "    model.fit(X_optuna, y)\n",
    "    score = model.score(X_optuna, y)\n",
    "    return score"
   ]
  },
  {
   "cell_type": "code",
   "execution_count": 9,
   "id": "a8b8fa82",
   "metadata": {
    "_kg_hide-input": false,
    "_kg_hide-output": true,
    "execution": {
     "iopub.execute_input": "2022-06-07T03:29:01.938439Z",
     "iopub.status.busy": "2022-06-07T03:29:01.937925Z",
     "iopub.status.idle": "2022-06-07T03:47:52.133204Z",
     "shell.execute_reply": "2022-06-07T03:47:52.132357Z"
    },
    "papermill": {
     "duration": 1130.236713,
     "end_time": "2022-06-07T03:47:52.159601",
     "exception": false,
     "start_time": "2022-06-07T03:29:01.922888",
     "status": "completed"
    },
    "tags": []
   },
   "outputs": [
    {
     "name": "stdout",
     "output_type": "stream",
     "text": [
      "\n",
      "========================== Fold 1 ==========================\n",
      "Train Date range: 2017-03-16 00:00:00 to 2017-08-16 00:00:00\n",
      "Valid Date range: 2017-08-25 00:00:00 to 2018-01-24 00:00:00\n",
      "\n",
      "Train Shape: (149793, 27) (149793,), Valid Shape: (159789, 27) (159789,)\n",
      "[300]\ttraining's l1: 2.75464e-07\ttraining's l2: 2.09796e-13\tvalid_1's l1: 0.0178307\tvalid_1's l2: 0.000623368\n",
      "Valid Sharpe: 0.18109142907444115, RMSE: 0.024967342801877658, MAE: 0.017830684431947696\n",
      "\n",
      "========================== Fold 2 ==========================\n",
      "Train Date range: 2017-03-16 00:00:00 to 2018-01-16 00:00:00\n",
      "Valid Date range: 2018-01-24 00:00:00 to 2018-06-25 00:00:00\n",
      "\n",
      "Train Shape: (309582, 27) (309582,), Valid Shape: (159789, 27) (159789,)\n",
      "[300]\ttraining's l1: 6.01482e-05\ttraining's l2: 8.29955e-09\tvalid_1's l1: 0.020558\tvalid_1's l2: 0.000824289\n",
      "Valid Sharpe: -0.017026628727338504, RMSE: 0.028711043420017096, MAE: 0.020558520363176895\n",
      "\n",
      "========================== Fold 3 ==========================\n",
      "Train Date range: 2017-03-16 00:00:00 to 2018-06-15 00:00:00\n",
      "Valid Date range: 2018-06-25 00:00:00 to 2018-12-03 00:00:00\n",
      "\n",
      "Train Shape: (469371, 27) (469371,), Valid Shape: (159789, 27) (159789,)\n",
      "[300]\ttraining's l1: 0.00036881\ttraining's l2: 2.79534e-07\tvalid_1's l1: 0.0217526\tvalid_1's l2: 0.000898981\n",
      "Valid Sharpe: 0.06603505367067534, RMSE: 0.029987662415310118, MAE: 0.02175642947996932\n",
      "\n",
      "========================== Fold 4 ==========================\n",
      "Train Date range: 2017-03-16 00:00:00 to 2018-11-22 00:00:00\n",
      "Valid Date range: 2018-12-03 00:00:00 to 2019-05-24 00:00:00\n",
      "\n",
      "Train Shape: (629160, 27) (629160,), Valid Shape: (159789, 27) (159789,)\n",
      "[300]\ttraining's l1: 0.000949087\ttraining's l2: 1.68673e-06\tvalid_1's l1: 0.0229492\tvalid_1's l2: 0.00100622\n",
      "Valid Sharpe: -0.023858964268154533, RMSE: 0.031738167691924786, MAE: 0.022965767712947414\n",
      "\n",
      "========================== Fold 5 ==========================\n",
      "Train Date range: 2017-03-16 00:00:00 to 2019-05-15 00:00:00\n",
      "Valid Date range: 2019-05-24 00:00:00 to 2019-10-30 00:00:00\n",
      "\n",
      "Train Shape: (788949, 27) (788949,), Valid Shape: (159789, 27) (159789,)\n",
      "[300]\ttraining's l1: 0.00172823\ttraining's l2: 5.4931e-06\tvalid_1's l1: 0.0194509\tvalid_1's l2: 0.000699629\n",
      "Valid Sharpe: 0.05308806323673148, RMSE: 0.026511818383060232, MAE: 0.019509599471181\n",
      "\n",
      "========================== Fold 6 ==========================\n",
      "Train Date range: 2017-03-16 00:00:00 to 2019-10-18 00:00:00\n",
      "Valid Date range: 2019-10-30 00:00:00 to 2020-03-27 00:00:00\n",
      "\n",
      "Train Shape: (948738, 27) (948738,), Valid Shape: (159789, 27) (159789,)\n",
      "[300]\ttraining's l1: 0.00239237\ttraining's l2: 1.04658e-05\tvalid_1's l1: 0.0247602\tvalid_1's l2: 0.00126785\n",
      "Valid Sharpe: -0.12780714463664836, RMSE: 0.03568601529190766, MAE: 0.02485208329951021\n",
      "\n",
      "========================== Fold 7 ==========================\n",
      "Train Date range: 2017-03-16 00:00:00 to 2020-03-18 00:00:00\n",
      "Valid Date range: 2020-03-27 00:00:00 to 2020-09-01 00:00:00\n",
      "\n",
      "Train Shape: (1108527, 27) (1108527,), Valid Shape: (159789, 27) (159789,)\n",
      "[300]\ttraining's l1: 0.00317324\ttraining's l2: 1.82738e-05\tvalid_1's l1: 0.0266848\tvalid_1's l2: 0.00131423\n",
      "Valid Sharpe: 0.019672947788010427, RMSE: 0.03637034348346443, MAE: 0.02680521131563216\n",
      "\n",
      "========================== Fold 8 ==========================\n",
      "Train Date range: 2017-03-16 00:00:00 to 2020-08-24 00:00:00\n",
      "Valid Date range: 2020-09-01 00:00:00 to 2021-02-08 00:00:00\n",
      "\n",
      "Train Shape: (1268316, 27) (1268316,), Valid Shape: (159789, 27) (159789,)\n",
      "[300]\ttraining's l1: 0.00397426\ttraining's l2: 2.83463e-05\tvalid_1's l1: 0.0218701\tvalid_1's l2: 0.000909893\n",
      "Valid Sharpe: -0.029845556159090347, RMSE: 0.030344918795133725, MAE: 0.022053273556117664\n",
      "\n",
      "========================== Fold 9 ==========================\n",
      "Train Date range: 2017-03-16 00:00:00 to 2021-01-28 00:00:00\n",
      "Valid Date range: 2021-02-08 00:00:00 to 2021-07-05 00:00:00\n",
      "\n",
      "Train Shape: (1428105, 27) (1428105,), Valid Shape: (159789, 27) (159789,)\n",
      "[300]\ttraining's l1: 0.00462303\ttraining's l2: 3.82407e-05\tvalid_1's l1: 0.0202129\tvalid_1's l2: 0.000763248\n",
      "Valid Sharpe: -0.09451671099623812, RMSE: 0.027917406968233437, MAE: 0.02049178293261662\n",
      "\n",
      "========================== Fold 10 ==========================\n",
      "Train Date range: 2017-03-16 00:00:00 to 2021-06-25 00:00:00\n",
      "Valid Date range: 2021-07-05 00:00:00 to 2021-12-03 00:00:00\n",
      "\n",
      "Train Shape: (1587894, 27) (1587894,), Valid Shape: (159789, 27) (159789,)\n",
      "[300]\ttraining's l1: 0.00521032\ttraining's l2: 4.88078e-05\tvalid_1's l1: 0.02008\tvalid_1's l2: 0.000784103\n",
      "Valid Sharpe: -0.10730824683832177, RMSE: 0.028283786357189773, MAE: 0.020374122449869744\n",
      "\n",
      "Average cross-validation Sharpe Ratio: -0.0080, standard deviation = 0.09.\n"
     ]
    }
   ],
   "source": [
    "ts_fold = TimeSeriesSplit(n_splits=10, gap=10000)\n",
    "\n",
    "# opt = optuna.create_study(direction='maximize',sampler=optuna.samplers.RandomSampler(seed=0))\n",
    "# opt.optimize(objectives, n_trials=10)\n",
    "# trial = opt.best_trial\n",
    "# params_best = dict(trial.params.items())\n",
    "# params_best['random_seed'] = 0\n",
    "\n",
    "params_best = {\n",
    "    'num_leaves': 2231,\n",
    "    'n_estimators': 420,\n",
    "    'max_bin': 28,\n",
    "    'learning_rate': 0.7742336894342167\n",
    "}\n",
    "\n",
    "feat_importance=pd.DataFrame()\n",
    "sharpe_ratio=[]\n",
    "    \n",
    "for fold, (train_idx, val_idx) in enumerate(ts_fold.split(X, y)):\n",
    "    \n",
    "    print(\"\\n========================== Fold {} ==========================\".format(fold+1))\n",
    "    X_train, y_train = X.iloc[train_idx,:], y[train_idx]\n",
    "    X_valid, y_val = X.iloc[val_idx,:], y[val_idx]\n",
    "    \n",
    "    print(\"Train Date range: {} to {}\".format(X_train.Date.min(),X_train.Date.max()))\n",
    "    print(\"Valid Date range: {} to {}\".format(X_valid.Date.min(),X_valid.Date.max()))\n",
    "    \n",
    "    X_train.drop(['Date','SecuritiesCode'], axis=1, inplace=True)\n",
    "    X_val=X_valid[X_valid.columns[~X_valid.columns.isin(['Date','SecuritiesCode'])]]\n",
    "    val_dates=X_valid.Date.unique()[1:-1]\n",
    "    print(\"\\nTrain Shape: {} {}, Valid Shape: {} {}\".format(X_train.shape, y_train.shape, X_val.shape, y_val.shape))\n",
    "    \n",
    "    gbm = LGBMRegressor(**params_best, device_type = 'gpu').fit(X_train, y_train, \n",
    "                                                                  eval_set=[(X_train, y_train), (X_val, y_val)],\n",
    "                                                                  verbose=300, \n",
    "                                                                  eval_metric=['mae','mse'])\n",
    "    y_pred = gbm.predict(X_val)\n",
    "    rmse = np.sqrt(mean_squared_error(y_val, y_pred))\n",
    "    mae = mean_absolute_error(y_val, y_pred)\n",
    "    feat_importance[\"Importance_Fold\"+str(fold)]=gbm.feature_importances_\n",
    "    feat_importance.set_index(X_train.columns, inplace=True)\n",
    "    \n",
    "    rank=[]\n",
    "    X_val_df=X_valid[X_valid.Date.isin(val_dates)]\n",
    "    for i in X_val_df.Date.unique():\n",
    "        temp_df = X_val_df[X_val_df.Date == i].drop(['Date','SecuritiesCode'],axis=1)\n",
    "        temp_df[\"pred\"] = gbm.predict(temp_df)\n",
    "        temp_df[\"Rank\"] = (temp_df[\"pred\"].rank(method=\"first\", ascending=False)-1).astype(int)\n",
    "        rank.append(temp_df[\"Rank\"].values)\n",
    "\n",
    "    stock_rank=pd.Series([x for y in rank for x in y], name=\"Rank\")\n",
    "    df=pd.concat([X_val_df.reset_index(drop=True),stock_rank,\n",
    "                  stock_prices[stock_prices.Date.isin(val_dates)]['Target'].reset_index(drop=True)], axis=1)\n",
    "    sharpe=calc_spread_return_sharpe(df)\n",
    "    sharpe_ratio.append(sharpe)\n",
    "    print(\"Valid Sharpe: {}, RMSE: {}, MAE: {}\".format(sharpe,rmse,mae))\n",
    "    \n",
    "    del X_train, y_train,  X_val, y_val\n",
    "    gc.collect()\n",
    "    \n",
    "print(\"\\nAverage cross-validation Sharpe Ratio: {:.4f}, standard deviation = {:.2f}.\".format(np.mean(sharpe_ratio),np.std(sharpe_ratio)))"
   ]
  },
  {
   "cell_type": "code",
   "execution_count": 10,
   "id": "c6303b24",
   "metadata": {
    "_kg_hide-input": true,
    "execution": {
     "iopub.execute_input": "2022-06-07T03:47:52.207706Z",
     "iopub.status.busy": "2022-06-07T03:47:52.207123Z",
     "iopub.status.idle": "2022-06-07T03:47:52.459873Z",
     "shell.execute_reply": "2022-06-07T03:47:52.459057Z"
    },
    "papermill": {
     "duration": 0.279542,
     "end_time": "2022-06-07T03:47:52.463095",
     "exception": false,
     "start_time": "2022-06-07T03:47:52.183553",
     "status": "completed"
    },
    "tags": []
   },
   "outputs": [
    {
     "data": {
      "application/vnd.plotly.v1+json": {
       "config": {
        "plotlyServerURL": "https://plot.ly"
       },
       "data": [
        {
         "hovertemplate": "%{y} Importance = %{x:.0f}<extra></extra>",
         "marker": {
          "color": [
           "#20068f",
           "#2f0596",
           "#3e049c",
           "#4b03a1",
           "#5601a4",
           "#6300a7",
           "#6f00a8",
           "#7b02a8",
           "#8606a6",
           "#910ea3",
           "#9c179e",
           "#a62098",
           "#ae2892",
           "#b7318a",
           "#c03a83",
           "#c8437b",
           "#ce4b75",
           "#d5546e",
           "#dc5d67",
           "#e26660",
           "#e76f5a",
           "#ed7953",
           "#f1834c",
           "#f68d45",
           "#f9973f",
           "#fba238",
           "#fdae32",
           "#feba2c",
           "#fdc527",
           "#fcd225"
          ],
          "size": 8
         },
         "mode": "markers",
         "type": "scatter",
         "x": [
          7778.8,
          7876.3,
          8392.0,
          11296.1,
          11427.3,
          11702.2,
          12679.1,
          13842.2,
          14715.0,
          17666.1,
          18639.7,
          18684.0,
          20702.4,
          21361.3,
          46994.6,
          48335.7,
          53443.1,
          54780.1,
          55100.8,
          55215.8,
          57846.9,
          58752.6,
          59604.7,
          59905.6,
          60136.8,
          61821.5,
          67899.3
         ],
         "y": [
          "ExpMovingAvg_20Day",
          "ExpMovingAvg_10Day",
          "ExpMovingAvg_30Day",
          "MovingAvg_20Day",
          "MovingAvg_10Day",
          "ExpMovingAvg_5Day",
          "MovingAvg_30Day",
          "MovingAvg_5Day",
          "ExpMovingAvg_50Day",
          "Close",
          "High",
          "Low",
          "MovingAvg_50Day",
          "Open",
          "Volatility_30Day",
          "Volatility_20Day",
          "Volatility_10Day",
          "Volatility_50Day",
          "Return_30Day",
          "Return_20Day",
          "Return_10Day",
          "Upper_Shadow",
          "Lower_Shadow",
          "Volatility_5Day",
          "Return_50Day",
          "Return_5Day",
          "Volume"
         ]
        }
       ],
       "layout": {
        "height": 700,
        "margin": {
         "l": 120,
         "t": 80
        },
        "shapes": [
         {
          "line": {
           "color": "#20068f",
           "width": 4
          },
          "opacity": 0.7,
          "type": "line",
          "x0": 0,
          "x1": 7778.8,
          "y0": 0,
          "y1": 0
         },
         {
          "line": {
           "color": "#2f0596",
           "width": 4
          },
          "opacity": 0.7,
          "type": "line",
          "x0": 0,
          "x1": 7876.3,
          "y0": 1,
          "y1": 1
         },
         {
          "line": {
           "color": "#3e049c",
           "width": 4
          },
          "opacity": 0.7,
          "type": "line",
          "x0": 0,
          "x1": 8392.0,
          "y0": 2,
          "y1": 2
         },
         {
          "line": {
           "color": "#4b03a1",
           "width": 4
          },
          "opacity": 0.7,
          "type": "line",
          "x0": 0,
          "x1": 11296.1,
          "y0": 3,
          "y1": 3
         },
         {
          "line": {
           "color": "#5601a4",
           "width": 4
          },
          "opacity": 0.7,
          "type": "line",
          "x0": 0,
          "x1": 11427.3,
          "y0": 4,
          "y1": 4
         },
         {
          "line": {
           "color": "#6300a7",
           "width": 4
          },
          "opacity": 0.7,
          "type": "line",
          "x0": 0,
          "x1": 11702.2,
          "y0": 5,
          "y1": 5
         },
         {
          "line": {
           "color": "#6f00a8",
           "width": 4
          },
          "opacity": 0.7,
          "type": "line",
          "x0": 0,
          "x1": 12679.1,
          "y0": 6,
          "y1": 6
         },
         {
          "line": {
           "color": "#7b02a8",
           "width": 4
          },
          "opacity": 0.7,
          "type": "line",
          "x0": 0,
          "x1": 13842.2,
          "y0": 7,
          "y1": 7
         },
         {
          "line": {
           "color": "#8606a6",
           "width": 4
          },
          "opacity": 0.7,
          "type": "line",
          "x0": 0,
          "x1": 14715.0,
          "y0": 8,
          "y1": 8
         },
         {
          "line": {
           "color": "#910ea3",
           "width": 4
          },
          "opacity": 0.7,
          "type": "line",
          "x0": 0,
          "x1": 17666.1,
          "y0": 9,
          "y1": 9
         },
         {
          "line": {
           "color": "#9c179e",
           "width": 4
          },
          "opacity": 0.7,
          "type": "line",
          "x0": 0,
          "x1": 18639.7,
          "y0": 10,
          "y1": 10
         },
         {
          "line": {
           "color": "#a62098",
           "width": 4
          },
          "opacity": 0.7,
          "type": "line",
          "x0": 0,
          "x1": 18684.0,
          "y0": 11,
          "y1": 11
         },
         {
          "line": {
           "color": "#ae2892",
           "width": 4
          },
          "opacity": 0.7,
          "type": "line",
          "x0": 0,
          "x1": 20702.4,
          "y0": 12,
          "y1": 12
         },
         {
          "line": {
           "color": "#b7318a",
           "width": 4
          },
          "opacity": 0.7,
          "type": "line",
          "x0": 0,
          "x1": 21361.3,
          "y0": 13,
          "y1": 13
         },
         {
          "line": {
           "color": "#c03a83",
           "width": 4
          },
          "opacity": 0.7,
          "type": "line",
          "x0": 0,
          "x1": 46994.6,
          "y0": 14,
          "y1": 14
         },
         {
          "line": {
           "color": "#c8437b",
           "width": 4
          },
          "opacity": 0.7,
          "type": "line",
          "x0": 0,
          "x1": 48335.7,
          "y0": 15,
          "y1": 15
         },
         {
          "line": {
           "color": "#ce4b75",
           "width": 4
          },
          "opacity": 0.7,
          "type": "line",
          "x0": 0,
          "x1": 53443.1,
          "y0": 16,
          "y1": 16
         },
         {
          "line": {
           "color": "#d5546e",
           "width": 4
          },
          "opacity": 0.7,
          "type": "line",
          "x0": 0,
          "x1": 54780.1,
          "y0": 17,
          "y1": 17
         },
         {
          "line": {
           "color": "#dc5d67",
           "width": 4
          },
          "opacity": 0.7,
          "type": "line",
          "x0": 0,
          "x1": 55100.8,
          "y0": 18,
          "y1": 18
         },
         {
          "line": {
           "color": "#e26660",
           "width": 4
          },
          "opacity": 0.7,
          "type": "line",
          "x0": 0,
          "x1": 55215.8,
          "y0": 19,
          "y1": 19
         },
         {
          "line": {
           "color": "#e76f5a",
           "width": 4
          },
          "opacity": 0.7,
          "type": "line",
          "x0": 0,
          "x1": 57846.9,
          "y0": 20,
          "y1": 20
         },
         {
          "line": {
           "color": "#ed7953",
           "width": 4
          },
          "opacity": 0.7,
          "type": "line",
          "x0": 0,
          "x1": 58752.6,
          "y0": 21,
          "y1": 21
         },
         {
          "line": {
           "color": "#f1834c",
           "width": 4
          },
          "opacity": 0.7,
          "type": "line",
          "x0": 0,
          "x1": 59604.7,
          "y0": 22,
          "y1": 22
         },
         {
          "line": {
           "color": "#f68d45",
           "width": 4
          },
          "opacity": 0.7,
          "type": "line",
          "x0": 0,
          "x1": 59905.6,
          "y0": 23,
          "y1": 23
         },
         {
          "line": {
           "color": "#f9973f",
           "width": 4
          },
          "opacity": 0.7,
          "type": "line",
          "x0": 0,
          "x1": 60136.8,
          "y0": 24,
          "y1": 24
         },
         {
          "line": {
           "color": "#fba238",
           "width": 4
          },
          "opacity": 0.7,
          "type": "line",
          "x0": 0,
          "x1": 61821.5,
          "y0": 25,
          "y1": 25
         },
         {
          "line": {
           "color": "#fdae32",
           "width": 4
          },
          "opacity": 0.7,
          "type": "line",
          "x0": 0,
          "x1": 67899.3,
          "y0": 26,
          "y1": 26
         }
        ],
        "template": {
         "data": {
          "bar": [
           {
            "error_x": {
             "color": "#2a3f5f"
            },
            "error_y": {
             "color": "#2a3f5f"
            },
            "marker": {
             "line": {
              "color": "#E5ECF6",
              "width": 0.5
             },
             "pattern": {
              "fillmode": "overlay",
              "size": 10,
              "solidity": 0.2
             }
            },
            "type": "bar"
           }
          ],
          "barpolar": [
           {
            "marker": {
             "line": {
              "color": "#E5ECF6",
              "width": 0.5
             },
             "pattern": {
              "fillmode": "overlay",
              "size": 10,
              "solidity": 0.2
             }
            },
            "type": "barpolar"
           }
          ],
          "carpet": [
           {
            "aaxis": {
             "endlinecolor": "#2a3f5f",
             "gridcolor": "white",
             "linecolor": "white",
             "minorgridcolor": "white",
             "startlinecolor": "#2a3f5f"
            },
            "baxis": {
             "endlinecolor": "#2a3f5f",
             "gridcolor": "white",
             "linecolor": "white",
             "minorgridcolor": "white",
             "startlinecolor": "#2a3f5f"
            },
            "type": "carpet"
           }
          ],
          "choropleth": [
           {
            "colorbar": {
             "outlinewidth": 0,
             "ticks": ""
            },
            "type": "choropleth"
           }
          ],
          "contour": [
           {
            "colorbar": {
             "outlinewidth": 0,
             "ticks": ""
            },
            "colorscale": [
             [
              0.0,
              "#0d0887"
             ],
             [
              0.1111111111111111,
              "#46039f"
             ],
             [
              0.2222222222222222,
              "#7201a8"
             ],
             [
              0.3333333333333333,
              "#9c179e"
             ],
             [
              0.4444444444444444,
              "#bd3786"
             ],
             [
              0.5555555555555556,
              "#d8576b"
             ],
             [
              0.6666666666666666,
              "#ed7953"
             ],
             [
              0.7777777777777778,
              "#fb9f3a"
             ],
             [
              0.8888888888888888,
              "#fdca26"
             ],
             [
              1.0,
              "#f0f921"
             ]
            ],
            "type": "contour"
           }
          ],
          "contourcarpet": [
           {
            "colorbar": {
             "outlinewidth": 0,
             "ticks": ""
            },
            "type": "contourcarpet"
           }
          ],
          "heatmap": [
           {
            "colorbar": {
             "outlinewidth": 0,
             "ticks": ""
            },
            "colorscale": [
             [
              0.0,
              "#0d0887"
             ],
             [
              0.1111111111111111,
              "#46039f"
             ],
             [
              0.2222222222222222,
              "#7201a8"
             ],
             [
              0.3333333333333333,
              "#9c179e"
             ],
             [
              0.4444444444444444,
              "#bd3786"
             ],
             [
              0.5555555555555556,
              "#d8576b"
             ],
             [
              0.6666666666666666,
              "#ed7953"
             ],
             [
              0.7777777777777778,
              "#fb9f3a"
             ],
             [
              0.8888888888888888,
              "#fdca26"
             ],
             [
              1.0,
              "#f0f921"
             ]
            ],
            "type": "heatmap"
           }
          ],
          "heatmapgl": [
           {
            "colorbar": {
             "outlinewidth": 0,
             "ticks": ""
            },
            "colorscale": [
             [
              0.0,
              "#0d0887"
             ],
             [
              0.1111111111111111,
              "#46039f"
             ],
             [
              0.2222222222222222,
              "#7201a8"
             ],
             [
              0.3333333333333333,
              "#9c179e"
             ],
             [
              0.4444444444444444,
              "#bd3786"
             ],
             [
              0.5555555555555556,
              "#d8576b"
             ],
             [
              0.6666666666666666,
              "#ed7953"
             ],
             [
              0.7777777777777778,
              "#fb9f3a"
             ],
             [
              0.8888888888888888,
              "#fdca26"
             ],
             [
              1.0,
              "#f0f921"
             ]
            ],
            "type": "heatmapgl"
           }
          ],
          "histogram": [
           {
            "marker": {
             "pattern": {
              "fillmode": "overlay",
              "size": 10,
              "solidity": 0.2
             }
            },
            "type": "histogram"
           }
          ],
          "histogram2d": [
           {
            "colorbar": {
             "outlinewidth": 0,
             "ticks": ""
            },
            "colorscale": [
             [
              0.0,
              "#0d0887"
             ],
             [
              0.1111111111111111,
              "#46039f"
             ],
             [
              0.2222222222222222,
              "#7201a8"
             ],
             [
              0.3333333333333333,
              "#9c179e"
             ],
             [
              0.4444444444444444,
              "#bd3786"
             ],
             [
              0.5555555555555556,
              "#d8576b"
             ],
             [
              0.6666666666666666,
              "#ed7953"
             ],
             [
              0.7777777777777778,
              "#fb9f3a"
             ],
             [
              0.8888888888888888,
              "#fdca26"
             ],
             [
              1.0,
              "#f0f921"
             ]
            ],
            "type": "histogram2d"
           }
          ],
          "histogram2dcontour": [
           {
            "colorbar": {
             "outlinewidth": 0,
             "ticks": ""
            },
            "colorscale": [
             [
              0.0,
              "#0d0887"
             ],
             [
              0.1111111111111111,
              "#46039f"
             ],
             [
              0.2222222222222222,
              "#7201a8"
             ],
             [
              0.3333333333333333,
              "#9c179e"
             ],
             [
              0.4444444444444444,
              "#bd3786"
             ],
             [
              0.5555555555555556,
              "#d8576b"
             ],
             [
              0.6666666666666666,
              "#ed7953"
             ],
             [
              0.7777777777777778,
              "#fb9f3a"
             ],
             [
              0.8888888888888888,
              "#fdca26"
             ],
             [
              1.0,
              "#f0f921"
             ]
            ],
            "type": "histogram2dcontour"
           }
          ],
          "mesh3d": [
           {
            "colorbar": {
             "outlinewidth": 0,
             "ticks": ""
            },
            "type": "mesh3d"
           }
          ],
          "parcoords": [
           {
            "line": {
             "colorbar": {
              "outlinewidth": 0,
              "ticks": ""
             }
            },
            "type": "parcoords"
           }
          ],
          "pie": [
           {
            "automargin": true,
            "type": "pie"
           }
          ],
          "scatter": [
           {
            "fillpattern": {
             "fillmode": "overlay",
             "size": 10,
             "solidity": 0.2
            },
            "type": "scatter"
           }
          ],
          "scatter3d": [
           {
            "line": {
             "colorbar": {
              "outlinewidth": 0,
              "ticks": ""
             }
            },
            "marker": {
             "colorbar": {
              "outlinewidth": 0,
              "ticks": ""
             }
            },
            "type": "scatter3d"
           }
          ],
          "scattercarpet": [
           {
            "marker": {
             "colorbar": {
              "outlinewidth": 0,
              "ticks": ""
             }
            },
            "type": "scattercarpet"
           }
          ],
          "scattergeo": [
           {
            "marker": {
             "colorbar": {
              "outlinewidth": 0,
              "ticks": ""
             }
            },
            "type": "scattergeo"
           }
          ],
          "scattergl": [
           {
            "marker": {
             "colorbar": {
              "outlinewidth": 0,
              "ticks": ""
             }
            },
            "type": "scattergl"
           }
          ],
          "scattermapbox": [
           {
            "marker": {
             "colorbar": {
              "outlinewidth": 0,
              "ticks": ""
             }
            },
            "type": "scattermapbox"
           }
          ],
          "scatterpolar": [
           {
            "marker": {
             "colorbar": {
              "outlinewidth": 0,
              "ticks": ""
             }
            },
            "type": "scatterpolar"
           }
          ],
          "scatterpolargl": [
           {
            "marker": {
             "colorbar": {
              "outlinewidth": 0,
              "ticks": ""
             }
            },
            "type": "scatterpolargl"
           }
          ],
          "scatterternary": [
           {
            "marker": {
             "colorbar": {
              "outlinewidth": 0,
              "ticks": ""
             }
            },
            "type": "scatterternary"
           }
          ],
          "surface": [
           {
            "colorbar": {
             "outlinewidth": 0,
             "ticks": ""
            },
            "colorscale": [
             [
              0.0,
              "#0d0887"
             ],
             [
              0.1111111111111111,
              "#46039f"
             ],
             [
              0.2222222222222222,
              "#7201a8"
             ],
             [
              0.3333333333333333,
              "#9c179e"
             ],
             [
              0.4444444444444444,
              "#bd3786"
             ],
             [
              0.5555555555555556,
              "#d8576b"
             ],
             [
              0.6666666666666666,
              "#ed7953"
             ],
             [
              0.7777777777777778,
              "#fb9f3a"
             ],
             [
              0.8888888888888888,
              "#fdca26"
             ],
             [
              1.0,
              "#f0f921"
             ]
            ],
            "type": "surface"
           }
          ],
          "table": [
           {
            "cells": {
             "fill": {
              "color": "#EBF0F8"
             },
             "line": {
              "color": "white"
             }
            },
            "header": {
             "fill": {
              "color": "#C8D4E3"
             },
             "line": {
              "color": "white"
             }
            },
            "type": "table"
           }
          ]
         },
         "layout": {
          "font": {
           "family": "Franklin Gothic",
           "size": 12
          },
          "width": 800
         }
        },
        "title": {
         "text": "Overall Feature Importance"
        },
        "width": 800,
        "xaxis": {
         "title": {
          "text": "Average Importance"
         },
         "zeroline": false
        },
        "yaxis": {
         "showgrid": false
        }
       }
      },
      "text/html": [
       "<div>                            <div id=\"36756018-42a2-49eb-857f-72d70c59b052\" class=\"plotly-graph-div\" style=\"height:700px; width:800px;\"></div>            <script type=\"text/javascript\">                require([\"plotly\"], function(Plotly) {                    window.PLOTLYENV=window.PLOTLYENV || {};                                    if (document.getElementById(\"36756018-42a2-49eb-857f-72d70c59b052\")) {                    Plotly.newPlot(                        \"36756018-42a2-49eb-857f-72d70c59b052\",                        [{\"hovertemplate\":\"%{y} Importance = %{x:.0f}<extra></extra>\",\"marker\":{\"color\":[\"#20068f\",\"#2f0596\",\"#3e049c\",\"#4b03a1\",\"#5601a4\",\"#6300a7\",\"#6f00a8\",\"#7b02a8\",\"#8606a6\",\"#910ea3\",\"#9c179e\",\"#a62098\",\"#ae2892\",\"#b7318a\",\"#c03a83\",\"#c8437b\",\"#ce4b75\",\"#d5546e\",\"#dc5d67\",\"#e26660\",\"#e76f5a\",\"#ed7953\",\"#f1834c\",\"#f68d45\",\"#f9973f\",\"#fba238\",\"#fdae32\",\"#feba2c\",\"#fdc527\",\"#fcd225\"],\"size\":8},\"mode\":\"markers\",\"x\":[7778.8,7876.3,8392.0,11296.1,11427.3,11702.2,12679.1,13842.2,14715.0,17666.1,18639.7,18684.0,20702.4,21361.3,46994.6,48335.7,53443.1,54780.1,55100.8,55215.8,57846.9,58752.6,59604.7,59905.6,60136.8,61821.5,67899.3],\"y\":[\"ExpMovingAvg_20Day\",\"ExpMovingAvg_10Day\",\"ExpMovingAvg_30Day\",\"MovingAvg_20Day\",\"MovingAvg_10Day\",\"ExpMovingAvg_5Day\",\"MovingAvg_30Day\",\"MovingAvg_5Day\",\"ExpMovingAvg_50Day\",\"Close\",\"High\",\"Low\",\"MovingAvg_50Day\",\"Open\",\"Volatility_30Day\",\"Volatility_20Day\",\"Volatility_10Day\",\"Volatility_50Day\",\"Return_30Day\",\"Return_20Day\",\"Return_10Day\",\"Upper_Shadow\",\"Lower_Shadow\",\"Volatility_5Day\",\"Return_50Day\",\"Return_5Day\",\"Volume\"],\"type\":\"scatter\"}],                        {\"template\":{\"data\":{\"histogram2dcontour\":[{\"type\":\"histogram2dcontour\",\"colorbar\":{\"outlinewidth\":0,\"ticks\":\"\"},\"colorscale\":[[0.0,\"#0d0887\"],[0.1111111111111111,\"#46039f\"],[0.2222222222222222,\"#7201a8\"],[0.3333333333333333,\"#9c179e\"],[0.4444444444444444,\"#bd3786\"],[0.5555555555555556,\"#d8576b\"],[0.6666666666666666,\"#ed7953\"],[0.7777777777777778,\"#fb9f3a\"],[0.8888888888888888,\"#fdca26\"],[1.0,\"#f0f921\"]]}],\"choropleth\":[{\"type\":\"choropleth\",\"colorbar\":{\"outlinewidth\":0,\"ticks\":\"\"}}],\"histogram2d\":[{\"type\":\"histogram2d\",\"colorbar\":{\"outlinewidth\":0,\"ticks\":\"\"},\"colorscale\":[[0.0,\"#0d0887\"],[0.1111111111111111,\"#46039f\"],[0.2222222222222222,\"#7201a8\"],[0.3333333333333333,\"#9c179e\"],[0.4444444444444444,\"#bd3786\"],[0.5555555555555556,\"#d8576b\"],[0.6666666666666666,\"#ed7953\"],[0.7777777777777778,\"#fb9f3a\"],[0.8888888888888888,\"#fdca26\"],[1.0,\"#f0f921\"]]}],\"heatmap\":[{\"type\":\"heatmap\",\"colorbar\":{\"outlinewidth\":0,\"ticks\":\"\"},\"colorscale\":[[0.0,\"#0d0887\"],[0.1111111111111111,\"#46039f\"],[0.2222222222222222,\"#7201a8\"],[0.3333333333333333,\"#9c179e\"],[0.4444444444444444,\"#bd3786\"],[0.5555555555555556,\"#d8576b\"],[0.6666666666666666,\"#ed7953\"],[0.7777777777777778,\"#fb9f3a\"],[0.8888888888888888,\"#fdca26\"],[1.0,\"#f0f921\"]]}],\"heatmapgl\":[{\"type\":\"heatmapgl\",\"colorbar\":{\"outlinewidth\":0,\"ticks\":\"\"},\"colorscale\":[[0.0,\"#0d0887\"],[0.1111111111111111,\"#46039f\"],[0.2222222222222222,\"#7201a8\"],[0.3333333333333333,\"#9c179e\"],[0.4444444444444444,\"#bd3786\"],[0.5555555555555556,\"#d8576b\"],[0.6666666666666666,\"#ed7953\"],[0.7777777777777778,\"#fb9f3a\"],[0.8888888888888888,\"#fdca26\"],[1.0,\"#f0f921\"]]}],\"contourcarpet\":[{\"type\":\"contourcarpet\",\"colorbar\":{\"outlinewidth\":0,\"ticks\":\"\"}}],\"contour\":[{\"type\":\"contour\",\"colorbar\":{\"outlinewidth\":0,\"ticks\":\"\"},\"colorscale\":[[0.0,\"#0d0887\"],[0.1111111111111111,\"#46039f\"],[0.2222222222222222,\"#7201a8\"],[0.3333333333333333,\"#9c179e\"],[0.4444444444444444,\"#bd3786\"],[0.5555555555555556,\"#d8576b\"],[0.6666666666666666,\"#ed7953\"],[0.7777777777777778,\"#fb9f3a\"],[0.8888888888888888,\"#fdca26\"],[1.0,\"#f0f921\"]]}],\"surface\":[{\"type\":\"surface\",\"colorbar\":{\"outlinewidth\":0,\"ticks\":\"\"},\"colorscale\":[[0.0,\"#0d0887\"],[0.1111111111111111,\"#46039f\"],[0.2222222222222222,\"#7201a8\"],[0.3333333333333333,\"#9c179e\"],[0.4444444444444444,\"#bd3786\"],[0.5555555555555556,\"#d8576b\"],[0.6666666666666666,\"#ed7953\"],[0.7777777777777778,\"#fb9f3a\"],[0.8888888888888888,\"#fdca26\"],[1.0,\"#f0f921\"]]}],\"mesh3d\":[{\"type\":\"mesh3d\",\"colorbar\":{\"outlinewidth\":0,\"ticks\":\"\"}}],\"scatter\":[{\"fillpattern\":{\"fillmode\":\"overlay\",\"size\":10,\"solidity\":0.2},\"type\":\"scatter\"}],\"parcoords\":[{\"type\":\"parcoords\",\"line\":{\"colorbar\":{\"outlinewidth\":0,\"ticks\":\"\"}}}],\"scatterpolargl\":[{\"type\":\"scatterpolargl\",\"marker\":{\"colorbar\":{\"outlinewidth\":0,\"ticks\":\"\"}}}],\"bar\":[{\"error_x\":{\"color\":\"#2a3f5f\"},\"error_y\":{\"color\":\"#2a3f5f\"},\"marker\":{\"line\":{\"color\":\"#E5ECF6\",\"width\":0.5},\"pattern\":{\"fillmode\":\"overlay\",\"size\":10,\"solidity\":0.2}},\"type\":\"bar\"}],\"scattergeo\":[{\"type\":\"scattergeo\",\"marker\":{\"colorbar\":{\"outlinewidth\":0,\"ticks\":\"\"}}}],\"scatterpolar\":[{\"type\":\"scatterpolar\",\"marker\":{\"colorbar\":{\"outlinewidth\":0,\"ticks\":\"\"}}}],\"histogram\":[{\"marker\":{\"pattern\":{\"fillmode\":\"overlay\",\"size\":10,\"solidity\":0.2}},\"type\":\"histogram\"}],\"scattergl\":[{\"type\":\"scattergl\",\"marker\":{\"colorbar\":{\"outlinewidth\":0,\"ticks\":\"\"}}}],\"scatter3d\":[{\"type\":\"scatter3d\",\"line\":{\"colorbar\":{\"outlinewidth\":0,\"ticks\":\"\"}},\"marker\":{\"colorbar\":{\"outlinewidth\":0,\"ticks\":\"\"}}}],\"scattermapbox\":[{\"type\":\"scattermapbox\",\"marker\":{\"colorbar\":{\"outlinewidth\":0,\"ticks\":\"\"}}}],\"scatterternary\":[{\"type\":\"scatterternary\",\"marker\":{\"colorbar\":{\"outlinewidth\":0,\"ticks\":\"\"}}}],\"scattercarpet\":[{\"type\":\"scattercarpet\",\"marker\":{\"colorbar\":{\"outlinewidth\":0,\"ticks\":\"\"}}}],\"carpet\":[{\"aaxis\":{\"endlinecolor\":\"#2a3f5f\",\"gridcolor\":\"white\",\"linecolor\":\"white\",\"minorgridcolor\":\"white\",\"startlinecolor\":\"#2a3f5f\"},\"baxis\":{\"endlinecolor\":\"#2a3f5f\",\"gridcolor\":\"white\",\"linecolor\":\"white\",\"minorgridcolor\":\"white\",\"startlinecolor\":\"#2a3f5f\"},\"type\":\"carpet\"}],\"table\":[{\"cells\":{\"fill\":{\"color\":\"#EBF0F8\"},\"line\":{\"color\":\"white\"}},\"header\":{\"fill\":{\"color\":\"#C8D4E3\"},\"line\":{\"color\":\"white\"}},\"type\":\"table\"}],\"barpolar\":[{\"marker\":{\"line\":{\"color\":\"#E5ECF6\",\"width\":0.5},\"pattern\":{\"fillmode\":\"overlay\",\"size\":10,\"solidity\":0.2}},\"type\":\"barpolar\"}],\"pie\":[{\"automargin\":true,\"type\":\"pie\"}]},\"layout\":{\"font\":{\"family\":\"Franklin Gothic\",\"size\":12},\"width\":800}},\"shapes\":[{\"line\":{\"color\":\"#20068f\",\"width\":4},\"opacity\":0.7,\"type\":\"line\",\"x0\":0,\"x1\":7778.8,\"y0\":0,\"y1\":0},{\"line\":{\"color\":\"#2f0596\",\"width\":4},\"opacity\":0.7,\"type\":\"line\",\"x0\":0,\"x1\":7876.3,\"y0\":1,\"y1\":1},{\"line\":{\"color\":\"#3e049c\",\"width\":4},\"opacity\":0.7,\"type\":\"line\",\"x0\":0,\"x1\":8392.0,\"y0\":2,\"y1\":2},{\"line\":{\"color\":\"#4b03a1\",\"width\":4},\"opacity\":0.7,\"type\":\"line\",\"x0\":0,\"x1\":11296.1,\"y0\":3,\"y1\":3},{\"line\":{\"color\":\"#5601a4\",\"width\":4},\"opacity\":0.7,\"type\":\"line\",\"x0\":0,\"x1\":11427.3,\"y0\":4,\"y1\":4},{\"line\":{\"color\":\"#6300a7\",\"width\":4},\"opacity\":0.7,\"type\":\"line\",\"x0\":0,\"x1\":11702.2,\"y0\":5,\"y1\":5},{\"line\":{\"color\":\"#6f00a8\",\"width\":4},\"opacity\":0.7,\"type\":\"line\",\"x0\":0,\"x1\":12679.1,\"y0\":6,\"y1\":6},{\"line\":{\"color\":\"#7b02a8\",\"width\":4},\"opacity\":0.7,\"type\":\"line\",\"x0\":0,\"x1\":13842.2,\"y0\":7,\"y1\":7},{\"line\":{\"color\":\"#8606a6\",\"width\":4},\"opacity\":0.7,\"type\":\"line\",\"x0\":0,\"x1\":14715.0,\"y0\":8,\"y1\":8},{\"line\":{\"color\":\"#910ea3\",\"width\":4},\"opacity\":0.7,\"type\":\"line\",\"x0\":0,\"x1\":17666.1,\"y0\":9,\"y1\":9},{\"line\":{\"color\":\"#9c179e\",\"width\":4},\"opacity\":0.7,\"type\":\"line\",\"x0\":0,\"x1\":18639.7,\"y0\":10,\"y1\":10},{\"line\":{\"color\":\"#a62098\",\"width\":4},\"opacity\":0.7,\"type\":\"line\",\"x0\":0,\"x1\":18684.0,\"y0\":11,\"y1\":11},{\"line\":{\"color\":\"#ae2892\",\"width\":4},\"opacity\":0.7,\"type\":\"line\",\"x0\":0,\"x1\":20702.4,\"y0\":12,\"y1\":12},{\"line\":{\"color\":\"#b7318a\",\"width\":4},\"opacity\":0.7,\"type\":\"line\",\"x0\":0,\"x1\":21361.3,\"y0\":13,\"y1\":13},{\"line\":{\"color\":\"#c03a83\",\"width\":4},\"opacity\":0.7,\"type\":\"line\",\"x0\":0,\"x1\":46994.6,\"y0\":14,\"y1\":14},{\"line\":{\"color\":\"#c8437b\",\"width\":4},\"opacity\":0.7,\"type\":\"line\",\"x0\":0,\"x1\":48335.7,\"y0\":15,\"y1\":15},{\"line\":{\"color\":\"#ce4b75\",\"width\":4},\"opacity\":0.7,\"type\":\"line\",\"x0\":0,\"x1\":53443.1,\"y0\":16,\"y1\":16},{\"line\":{\"color\":\"#d5546e\",\"width\":4},\"opacity\":0.7,\"type\":\"line\",\"x0\":0,\"x1\":54780.1,\"y0\":17,\"y1\":17},{\"line\":{\"color\":\"#dc5d67\",\"width\":4},\"opacity\":0.7,\"type\":\"line\",\"x0\":0,\"x1\":55100.8,\"y0\":18,\"y1\":18},{\"line\":{\"color\":\"#e26660\",\"width\":4},\"opacity\":0.7,\"type\":\"line\",\"x0\":0,\"x1\":55215.8,\"y0\":19,\"y1\":19},{\"line\":{\"color\":\"#e76f5a\",\"width\":4},\"opacity\":0.7,\"type\":\"line\",\"x0\":0,\"x1\":57846.9,\"y0\":20,\"y1\":20},{\"line\":{\"color\":\"#ed7953\",\"width\":4},\"opacity\":0.7,\"type\":\"line\",\"x0\":0,\"x1\":58752.6,\"y0\":21,\"y1\":21},{\"line\":{\"color\":\"#f1834c\",\"width\":4},\"opacity\":0.7,\"type\":\"line\",\"x0\":0,\"x1\":59604.7,\"y0\":22,\"y1\":22},{\"line\":{\"color\":\"#f68d45\",\"width\":4},\"opacity\":0.7,\"type\":\"line\",\"x0\":0,\"x1\":59905.6,\"y0\":23,\"y1\":23},{\"line\":{\"color\":\"#f9973f\",\"width\":4},\"opacity\":0.7,\"type\":\"line\",\"x0\":0,\"x1\":60136.8,\"y0\":24,\"y1\":24},{\"line\":{\"color\":\"#fba238\",\"width\":4},\"opacity\":0.7,\"type\":\"line\",\"x0\":0,\"x1\":61821.5,\"y0\":25,\"y1\":25},{\"line\":{\"color\":\"#fdae32\",\"width\":4},\"opacity\":0.7,\"type\":\"line\",\"x0\":0,\"x1\":67899.3,\"y0\":26,\"y1\":26}],\"xaxis\":{\"title\":{\"text\":\"Average Importance\"},\"zeroline\":false},\"yaxis\":{\"showgrid\":false},\"margin\":{\"l\":120,\"t\":80},\"title\":{\"text\":\"Overall Feature Importance\"},\"height\":700,\"width\":800},                        {\"responsive\": true}                    ).then(function(){\n",
       "                            \n",
       "var gd = document.getElementById('36756018-42a2-49eb-857f-72d70c59b052');\n",
       "var x = new MutationObserver(function (mutations, observer) {{\n",
       "        var display = window.getComputedStyle(gd).display;\n",
       "        if (!display || display === 'none') {{\n",
       "            console.log([gd, 'removed!']);\n",
       "            Plotly.purge(gd);\n",
       "            observer.disconnect();\n",
       "        }}\n",
       "}});\n",
       "\n",
       "// Listen for the removal of the full notebook cells\n",
       "var notebookContainer = gd.closest('#notebook-container');\n",
       "if (notebookContainer) {{\n",
       "    x.observe(notebookContainer, {childList: true});\n",
       "}}\n",
       "\n",
       "// Listen for the clearing of the current output cell\n",
       "var outputEl = gd.closest('.output');\n",
       "if (outputEl) {{\n",
       "    x.observe(outputEl, {childList: true});\n",
       "}}\n",
       "\n",
       "                        })                };                });            </script>        </div>"
      ]
     },
     "metadata": {},
     "output_type": "display_data"
    }
   ],
   "source": [
    "feat_importance['avg'] = feat_importance.mean(axis=1)\n",
    "feat_importance = feat_importance.sort_values(by='avg',ascending=True)\n",
    "pal=sns.color_palette(\"plasma_r\", 32).as_hex()[2:]\n",
    "\n",
    "fig=go.Figure()\n",
    "for i in range(len(feat_importance.index)):\n",
    "    fig.add_shape(dict(type=\"line\", y0=i, y1=i, x0=0, x1=feat_importance['avg'][i], \n",
    "                       line_color=pal[::-1][i],opacity=0.7,line_width=4))\n",
    "fig.add_trace(go.Scatter(x=feat_importance['avg'], y=feat_importance.index, mode='markers', \n",
    "                         marker_color=pal[::-1], marker_size=8,\n",
    "                         hovertemplate='%{y} Importance = %{x:.0f}<extra></extra>'))\n",
    "fig.update_layout(template=temp,title='Overall Feature Importance', \n",
    "                  xaxis=dict(title='Average Importance',zeroline=False),\n",
    "                  yaxis_showgrid=False, margin=dict(l=120,t=80),\n",
    "                  height=700, width=800)\n",
    "fig.show()\n"
   ]
  },
  {
   "cell_type": "code",
   "execution_count": 11,
   "id": "bcf13adb",
   "metadata": {
    "execution": {
     "iopub.execute_input": "2022-06-07T03:47:52.521871Z",
     "iopub.status.busy": "2022-06-07T03:47:52.521199Z",
     "iopub.status.idle": "2022-06-07T03:48:43.171091Z",
     "shell.execute_reply": "2022-06-07T03:48:43.170371Z"
    },
    "papermill": {
     "duration": 50.6815,
     "end_time": "2022-06-07T03:48:43.173497",
     "exception": false,
     "start_time": "2022-06-07T03:47:52.491997",
     "status": "completed"
    },
    "tags": []
   },
   "outputs": [],
   "source": [
    "cols_fin=feat_importance.avg.nlargest(5).index.tolist()\n",
    "cols_fin.extend(('Open','High','Low'))\n",
    "X_train=stock_prices[cols_fin]\n",
    "y_train=stock_prices['Target']\n",
    "gbm = LGBMRegressor(**params_best).fit(X_train, y_train)"
   ]
  },
  {
   "cell_type": "code",
   "execution_count": 12,
   "id": "07d49cf2",
   "metadata": {
    "execution": {
     "iopub.execute_input": "2022-06-07T03:48:43.249313Z",
     "iopub.status.busy": "2022-06-07T03:48:43.248953Z",
     "iopub.status.idle": "2022-06-07T03:48:51.378017Z",
     "shell.execute_reply": "2022-06-07T03:48:51.377109Z"
    },
    "papermill": {
     "duration": 8.170214,
     "end_time": "2022-06-07T03:48:51.380988",
     "exception": false,
     "start_time": "2022-06-07T03:48:43.210774",
     "status": "completed"
    },
    "tags": []
   },
   "outputs": [
    {
     "name": "stdout",
     "output_type": "stream",
     "text": [
      "This version of the API is not optimized and should not be used to estimate the runtime of your code on the hidden test set.\n"
     ]
    }
   ],
   "source": [
    "import jpx_tokyo_market_prediction\n",
    "env = jpx_tokyo_market_prediction.make_env()\n",
    "iter_test = env.iter_test()\n",
    "\n",
    "cols=['Date','SecuritiesCode','Open','High','Low','Close','Volume']\n",
    "train=train[train.Date>='2021-08-01'][cols]\n",
    "\n",
    "counter = 0\n",
    "for (prices, options, financials, trades, secondary_prices, sample_prediction) in iter_test:\n",
    "\n",
    "    current_date = prices[\"Date\"].iloc[0]\n",
    "    if counter == 0:\n",
    "        df_price_raw = train.loc[train[\"Date\"] < current_date]\n",
    "    df_price_raw = pd.concat([df_price_raw, prices[cols]]).reset_index(drop=True)\n",
    "    features = create_features(df=df_price_raw)\n",
    "    feat = features[features.Date == current_date][cols_fin]\n",
    "    feat[\"pred\"] = gbm.predict(feat)\n",
    "    feat[\"Rank\"] = (feat[\"pred\"].rank(method=\"first\", ascending=False)-1).astype(int)\n",
    "    sample_prediction[\"Rank\"] = feat[\"Rank\"].values\n",
    "    \n",
    "    assert sample_prediction[\"Rank\"].notna().all()\n",
    "    assert sample_prediction[\"Rank\"].min() == 0\n",
    "    assert sample_prediction[\"Rank\"].max() == len(sample_prediction[\"Rank\"]) - 1\n",
    "    \n",
    "    env.predict(sample_prediction)\n",
    "    counter += 1"
   ]
  }
 ],
 "metadata": {
  "kernelspec": {
   "display_name": "Python 3",
   "language": "python",
   "name": "python3"
  },
  "language_info": {
   "codemirror_mode": {
    "name": "ipython",
    "version": 3
   },
   "file_extension": ".py",
   "mimetype": "text/x-python",
   "name": "python",
   "nbconvert_exporter": "python",
   "pygments_lexer": "ipython3",
   "version": "3.7.12"
  },
  "papermill": {
   "default_parameters": {},
   "duration": 1255.928983,
   "end_time": "2022-06-07T03:48:52.803660",
   "environment_variables": {},
   "exception": null,
   "input_path": "__notebook__.ipynb",
   "output_path": "__notebook__.ipynb",
   "parameters": {},
   "start_time": "2022-06-07T03:27:56.874677",
   "version": "2.3.4"
  }
 },
 "nbformat": 4,
 "nbformat_minor": 5
}
